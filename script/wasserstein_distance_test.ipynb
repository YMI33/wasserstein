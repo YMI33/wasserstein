{
 "cells": [
  {
   "cell_type": "markdown",
   "metadata": {},
   "source": [
    "\n",
    "# script to test wasserstein_distance \n",
    "## Conclusion\n",
    "1. positive: transformation routine is same direction\n",
    "2. negative: transformation routine is opposite direction\n",
    "3. perpendicular: transformation routine direction is half half\n",
    "## Physical meaning: PDF deformation \n",
    "Assume we have reference transform which concentrates to the center, then the correlation coefficient between reference transform and test transform means:\n",
    "1.1 Positive: PDF becomes sharp\n",
    "2.2 Negative: PDF becomes smooth\n",
    "3.2 perpendicular: PDF becomes "
   ]
  },
  {
   "cell_type": "code",
   "execution_count": 1,
   "metadata": {},
   "outputs": [],
   "source": [
    "import numpy as np\n",
    "from scipy.stats import wasserstein_distance as wdis\n",
    "import matplotlib.pyplot as plt\n",
    "%matplotlib inline\n",
    "# HEAD display function\n",
    "def disp(f0,f1,f2):\n",
    "    print('W(f0,f1)=%0.3f'%wdis(f0,f1))\n",
    "    print('W(f0,f2)=%0.3f'%wdis(f0,f2))\n",
    "    print('W(f1,f2)=%0.3f'%(wdis(f1,f2)))\n",
    "    #print('Pythagorean theorem: %0.3f vs %0.3f'%(wdis(f0,f2)**2+wdis(f0,f1)**2,wdis(f1,f2)**2))\n",
    "    print(-(wdis(f1,f2)**2-wdis(f0,f1)**2-wdis(f0,f2)**2)/2)\n",
    "    plt.hist([f0,f1,f2],bins=np.linspace(-10,10,41),histtype='step',density=True)\n",
    "    plt.legend(['f2','f1','f0'])\n"
   ]
  },
  {
   "cell_type": "code",
   "execution_count": 2,
   "metadata": {},
   "outputs": [],
   "source": [
    "# Positive Correlation\n",
    "#f0 = np.random.uniform(-1,1,1000)\n",
    "f0 = np.random.normal(0,1,1000)\n",
    "f1 = np.random.normal(0,2,10000)\n",
    "f2 = np.random.normal(0,3,10000)\n",
    "# 1~1.0 2~0.96 3~0.86 4~0.736 5~0.64\n",
    "#disp(f0,f1,f2,f3)"
   ]
  },
  {
   "cell_type": "code",
   "execution_count": 3,
   "metadata": {},
   "outputs": [],
   "source": [
    "# Negative Correlation\n",
    "f0 = np.random.normal(0,1,10000)\n",
    "f1 = np.random.normal(0,2,10000)\n",
    "f2 = -np.random.normal(0,0.5,10000)\n",
    "#disp(f0,f1,f2)"
   ]
  },
  {
   "cell_type": "code",
   "execution_count": 4,
   "metadata": {},
   "outputs": [
    {
     "name": "stdout",
     "output_type": "stream",
     "text": [
      "W(f0,f1)=0.807\n",
      "W(f0,f2)=0.137\n",
      "W(f1,f2)=0.794\n",
      "0.020352511581976707\n"
     ]
    },
    {
     "data": {
      "image/png": "[encoded data removed]",
      "text/plain": [
       "<Figure size 432x288 with 1 Axes>"
      ]
     },
     "metadata": {
      "needs_background": "light"
     },
     "output_type": "display_data"
    }
   ],
   "source": [
    "# Perpendicular\n",
    "f0 = np.random.normal(0,1,10000)\n",
    "f1 = np.random.normal(0,2,10000)\n",
    "f2 = np.random.uniform(-1.6,1.6,10000)\n",
    "disp(f0,f1,f2)"
   ]
  },
  {
   "cell_type": "markdown",
   "metadata": {},
   "source": [
    "# test result\n",
    "Uniform: 1->2 0.5; 1->3 1.0; 2->3 0.5  \n",
    "Normal:  1->2 0.8; 1->3 1.6; 2->3 0.8  \n",
    "Weibull: 1->2 0.9; 1->3 1.8; 2->3 0.9  \n",
    "So parallel moving:\n",
    "$$\n",
    "T_{i}:f(x)->f(x-i) \\\\\n",
    "\\alpha T_{i}:f(x)->f(x-\\alpha i) \n",
    "$$\n",
    "Volume change:\n",
    "$$\n",
    "V_{i}:f(x)->f(\\frac{1}{i}x) \\\\\n",
    "\\alpha V_{i}:f(x)->f(\\frac{1}{\\alpha (i-1)} x)\n",
    "$$\n",
    "\n",
    "Hyposis: \n",
    "The transiformation can be defined as the difference of characteristic function: \n",
    "$$\n",
    "\\phi (f+g) = \\phi (f) \\phi (g) \\\\\n",
    "\\phi (-f)  = \\phi (-f)\n",
    "$$\n",
    "Test: \n",
    "Normal distribution (parrel move): \n",
    "$$\n",
    "\\phi_t (N(\\mu,\\sigma)) =  e^{it\\mu - \\frac{1}{2}\\sigma ^2 t^2 }\n",
    "$$\n",
    "(1) \n",
    "$$\n",
    "\\phi_t (T_{01} := N(1,1) - N(0,1)) = e^{it- \\frac{1}{2}t^2 } / e^{- \\frac{1}{2}t^2 }  \\\\\n",
    "\\phi_t (2T_{01}) := e^{i2t}  \\\\\n",
    "\\phi_t(f_{est}) = \\phi_t (2(N(1,1) - N(0,1))+N(0,1)) = e^{i2t} \\times e^{- \\frac{1}{2}t^2 } = \\phi_t(N(2,1)) \\\\\n",
    "$$\n",
    "(2) Normal distribution (volume change): \n",
    "$$\n",
    "\\phi_t (V_{01} := N(0,2) - N(0,1)) = e^{-\\frac{1}{2}4t^2 } / e^{- \\frac{1}{2}t^2 }= e^{-\\frac{3}{2}t^2 } \\\\\n",
    "\\phi_t (V_{01} := N(0,3) - N(0,2)) = e^{-\\frac{9}{2}t^2 } / e^{- \\frac{4}{2}t^2 }= e^{-\\frac{5}{2}t^2 } \\\\\n",
    "\\phi_t (2V_{01}) := e^{-3t^2 } \\\\\n",
    "\\phi_t(f_{est}) = \\phi_t (2(N(0,2) - N(0,1))+N(0,1)) = e^{-3t^2 } \\times e^{- \\frac{1}{2}t^2 } = e^{- \\frac{7}{2}t^2 }\n",
    "$$"
   ]
  },
  {
   "cell_type": "code",
   "execution_count": 5,
   "metadata": {},
   "outputs": [
    {
     "name": "stdout",
     "output_type": "stream",
     "text": [
      "W(f0,f1)=0.724\n",
      "W(f0,f2)=0.719\n",
      "W(f1,f2)=0.019\n",
      "0.5205471338926775\n"
     ]
    },
    {
     "data": {
      "text/plain": [
       "0.5"
      ]
     },
     "execution_count": 5,
     "metadata": {},
     "output_type": "execute_result"
    },
    {
     "data": {
      "image/png": "[encoded data removed]",
      "text/plain": [
       "<Figure size 432x288 with 1 Axes>"
      ]
     },
     "metadata": {
      "needs_background": "light"
     },
     "output_type": "display_data"
    }
   ],
   "source": [
    "# test\n",
    "f0 = np.sort(np.random.normal(0,0.1,10000))\n",
    "#f0 = np.random.normal(0,5,10000)\n",
    "f1 = np.sort(np.random.normal(0,1,10000))\n",
    "#f1 = np.random.normal(0,1,10000)\n",
    "df1 = np.sort(np.random.normal(0,2,10000))-np.sort(np.random.normal(0,1,10000))\n",
    "f2 = f0+0.9*df1\n",
    "# -0.05~1.4 | -0.1~1.7 | -0.2~2.4 | -0.3~4.4 |\n",
    "disp(f0,f1,f2)\n",
    "(1/4-1/6)*2+1/6*2\n",
    "#print(df)"
   ]
  },
  {
   "cell_type": "code",
   "execution_count": null,
   "metadata": {},
   "outputs": [],
   "source": []
  },
  {
   "cell_type": "code",
   "execution_count": null,
   "metadata": {},
   "outputs": [],
   "source": []
  }
 ],
 "metadata": {
  "kernelspec": {
   "display_name": "Python 3 (ipykernel)",
   "language": "python",
   "name": "python3"
  },
  "language_info": {
   "codemirror_mode": {
    "name": "ipython",
    "version": 3
   },
   "file_extension": ".py",
   "mimetype": "text/x-python",
   "name": "python",
   "nbconvert_exporter": "python",
   "pygments_lexer": "ipython3",
   "version": "3.9.12"
  },
  "toc": {
   "base_numbering": 1,
   "nav_menu": {},
   "number_sections": true,
   "sideBar": true,
   "skip_h1_title": false,
   "title_cell": "Table of Contents",
   "title_sidebar": "Contents",
   "toc_cell": false,
   "toc_position": {},
   "toc_section_display": true,
   "toc_window_display": false
  }
 },
 "nbformat": 4,
 "nbformat_minor": 2
}
